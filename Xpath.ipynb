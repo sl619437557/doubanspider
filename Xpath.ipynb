{
 "cells": [
  {
   "cell_type": "markdown",
   "metadata": {},
   "source": [
    "#XPATH 豆瓣\n",
    "代码"
   ]
  },
  {
   "cell_type": "markdown",
   "metadata": {},
   "source": [
    "XPath 是一门在 XML 文档中查找信息的语言。XPath 可用来在 XML 文档中对元素和属性进行遍历，我们用来提取格式为HTML的网页源码效率也相当高，可以遍历html的各个标签和属性，来定位到我们需要的信息的位置，并提取。\n",
    "##1 安装\n",
    ">pip install lxml\n",
    "\n",
    "##2 语法\n",
    "w3school的xpath[http://www.w3school.com.cn/xpath/xpath_syntax.asp]\n",
    "\n",
    "##3 例子\n",
    "\n",
    ">&#60;h1>豆瓣电影排行榜</h1>"
   ]
  },
  {
   "cell_type": "code",
   "execution_count": null,
   "metadata": {},
   "outputs": [],
   "source": [
    "# coding:utf-8 \n",
    "import requests \n",
    "\n",
    "# 上节的requests请求网页，得到网页源代码 \n",
    "url = 'https://movie.douban.com/chart' \n",
    "r = requests.get(url).content \n",
    "\n",
    "# 导入lxml库和html.fromStringh函数来解析html \n",
    "from lxml import html \n",
    "\n",
    "# 调用html.fromString函数解析html源代码 \n",
    "sel = html.fromstring(r) \n",
    "\n",
    "# 提取h1标签，text()获取该标签下的文本 \n",
    "title = sel.xpath(\"//h1/text()\") \n",
    "\n",
    "#这里返回的类型列表,而这个网页中只有一个h1标签，索引为0来得到title \n",
    "print type(title) \n",
    "print title[0]"
   ]
  },
  {
   "cell_type": "markdown",
   "metadata": {},
   "source": [
    "再来看看提取属性方法，例如下面的这些电影的链接列表，是在a标签中的href属性中。\n",
    "要想精确的定位到该标签，我们能可以先定位到这个a标签的父标签div，\n",
    "> &#60;div class=\"pl2\">...</div>"
   ]
  },
  {
   "cell_type": "code",
   "execution_count": null,
   "metadata": {},
   "outputs": [],
   "source": [
    "from lxml import html\n",
    "doc = html.fromstring('<div><p>lorem <span>poium</span></p></div>')\n",
    "doc.text_content()\n",
    "#输出 'lorem poium'"
   ]
  },
  {
   "cell_type": "code",
   "execution_count": null,
   "metadata": {},
   "outputs": [],
   "source": [
    "# coding:utf-8 \n",
    "import requests \n",
    "\n",
    "from lxml import html \n",
    "url = 'https://movie.douban.com/chart' \n",
    "\n",
    "r = requests.get(url).content \n",
    "sel = html.fromstring(r) \n",
    "\n",
    "# 提取h1标签 \n",
    "title = sel.xpath(\"//h1/text()\") \n",
    "\n",
    "# 提取链接 \n",
    "links = sel.xpath('//div[@class=\"pl2\"]/a/@href') \n",
    "\n",
    "# 上面返回的是所有符合条件的链接的列表，for循环来读取一下 \n",
    "for link in links: \n",
    "    print link"
   ]
  },
  {
   "cell_type": "markdown",
   "metadata": {},
   "source": [
    "##4 完整代码"
   ]
  },
  {
   "cell_type": "code",
   "execution_count": null,
   "metadata": {},
   "outputs": [],
   "source": [
    "# coding:utf-8 \n",
    "import requests\n",
    "from lxml import html \n",
    "\n",
    "\n",
    "k = 1 \n",
    "for i in range(10): \n",
    "    url = 'https://movie.douban.com/top250?start={}&filter='.format(i*25) \n",
    "    con = requests.get(url).content \n",
    "    sel = html.fromstring(con) \n",
    "\n",
    "    # 所有的信息都在class属性为info的div标签里，可以先把这个节点取出来 \n",
    "    for i in sel.xpath('//div[@class=\"info\"]'): \n",
    "\n",
    "        # 影片名称 \n",
    "        title = i.xpath('div[@class=\"hd\"]/a/span[@class=\"title\"]/text()')[0]\n",
    "        \n",
    "        info = i.xpath('div[@class=\"bd\"]/p[1]/text()') \n",
    "        # 导演演员信息 \n",
    "        info_1 = info[0].replace(\" \", \"\").replace(\"\\n\", \"\") \n",
    "        # 上映日期 \n",
    "        date = info[1].replace(\" \", \"\").replace(\"\\n\", \"\").split(\"/\")[0] \n",
    "        # 制片国家 \n",
    "        country = info[1].replace(\" \", \"\").replace(\"\\n\", \"\").split(\"/\")[1] \n",
    "        # 影片类型 \n",
    "        geners = info[1].replace(\" \", \"\").replace(\"\\n\", \"\").split(\"/\")[2] \n",
    "        # 评分 \n",
    "        rate = i.xpath('//span[@class=\"rating_num\"]/text()')[0] \n",
    "        # 评论人数 \n",
    "        comCount = i.xpath('//div[@class=\"star\"]/span[4]/text()')[0] \n",
    "\n",
    "        # 打印结果看看 \n",
    "        print(\"TOP%s\" % str(k))\n",
    "        print(title, info_1, rate, date, country, geners, comCount)\n",
    "\n",
    "        # 写入文件 \n",
    "        with open(\"/Users/apple/Desktop/movies_all.txt\", \"a\") as f: \n",
    "            f.write(\"TOP%s\\n影片名称：%s\\n评分：%s %s\\n上映日期：%s\\n上映国家：%s\\n%s\\n\"%(k, title, rate, comCount, date, country, info_1)) \n",
    "            f.write(\"==========================\\n\") \n",
    "    \n",
    "        k += 1\n"
   ]
  },
  {
   "cell_type": "code",
   "execution_count": null,
   "metadata": {},
   "outputs": [],
   "source": []
  }
 ],
 "metadata": {
  "kernelspec": {
   "display_name": "Python 3",
   "language": "python",
   "name": "python3"
  },
  "language_info": {
   "codemirror_mode": {
    "name": "ipython",
    "version": 3
   },
   "file_extension": ".py",
   "mimetype": "text/x-python",
   "name": "python",
   "nbconvert_exporter": "python",
   "pygments_lexer": "ipython3",
   "version": "3.5.0"
  }
 },
 "nbformat": 4,
 "nbformat_minor": 2
}
